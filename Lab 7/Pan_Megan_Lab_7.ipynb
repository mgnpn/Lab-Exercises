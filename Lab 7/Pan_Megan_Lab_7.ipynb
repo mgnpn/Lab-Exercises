{
 "cells": [
  {
   "cell_type": "markdown",
   "id": "8e1340fa",
   "metadata": {},
   "source": [
    "# Weather"
   ]
  },
  {
   "cell_type": "code",
   "execution_count": 1,
   "id": "ab4b86f8",
   "metadata": {},
   "outputs": [],
   "source": [
    "import requests\n",
    "import json\n",
    "import csv\n",
    "import pandas as pd"
   ]
  },
  {
   "cell_type": "code",
   "execution_count": 2,
   "id": "f474ce98",
   "metadata": {},
   "outputs": [],
   "source": [
    "lat = \"40.7282\"\n",
    "lon = \"-73.7949\"\n",
    "genius = requests.get(f\"https://api.weather.gov/points/{lat},{lon}\")\n",
    "\n",
    "json_file = genius.json()\n",
    "forecast = json_file[\"properties\"][\"forecast\"]\n",
    "new_requests = requests.get(forecast)\n",
    "\n",
    "json = new_requests.json()\n",
    "#json"
   ]
  },
  {
   "cell_type": "code",
   "execution_count": 3,
   "id": "2f1b24b5",
   "metadata": {},
   "outputs": [],
   "source": [
    "data_file = open(\"weather.csv\", \"w\", newline=\"\", encoding=\"utf-8\")\n",
    "csv_writer = csv.writer(data_file)\n",
    "csv_writer.writerow([\"Day\", \"Temperature\", \"Description\"])\n",
    "\n",
    "per = json[\"properties\"][\"periods\"]\n",
    "    \n",
    "for i in per:\n",
    "    name = i[\"name\"]\n",
    "    temp = i[\"temperature\"]\n",
    "    detail = i[\"detailedForecast\"]\n",
    "    csv_writer.writerow([name, temp, detail])\n",
    "        \n",
    "data_file.close()"
   ]
  },
  {
   "cell_type": "code",
   "execution_count": 4,
   "id": "0f4212f1",
   "metadata": {
    "scrolled": true
   },
   "outputs": [
    {
     "data": {
      "text/html": [
       "<div>\n",
       "<style scoped>\n",
       "    .dataframe tbody tr th:only-of-type {\n",
       "        vertical-align: middle;\n",
       "    }\n",
       "\n",
       "    .dataframe tbody tr th {\n",
       "        vertical-align: top;\n",
       "    }\n",
       "\n",
       "    .dataframe thead th {\n",
       "        text-align: right;\n",
       "    }\n",
       "</style>\n",
       "<table border=\"1\" class=\"dataframe\">\n",
       "  <thead>\n",
       "    <tr style=\"text-align: right;\">\n",
       "      <th></th>\n",
       "      <th>Day</th>\n",
       "      <th>Temperature</th>\n",
       "      <th>Description</th>\n",
       "    </tr>\n",
       "  </thead>\n",
       "  <tbody>\n",
       "    <tr>\n",
       "      <th>0</th>\n",
       "      <td>This Afternoon</td>\n",
       "      <td>51</td>\n",
       "      <td>Mostly sunny, with a high near 51. West wind a...</td>\n",
       "    </tr>\n",
       "    <tr>\n",
       "      <th>1</th>\n",
       "      <td>Tonight</td>\n",
       "      <td>30</td>\n",
       "      <td>Partly cloudy. Low around 30, with temperature...</td>\n",
       "    </tr>\n",
       "    <tr>\n",
       "      <th>2</th>\n",
       "      <td>Sunday</td>\n",
       "      <td>41</td>\n",
       "      <td>Mostly sunny, with a high near 41. Wind chill ...</td>\n",
       "    </tr>\n",
       "    <tr>\n",
       "      <th>3</th>\n",
       "      <td>Sunday Night</td>\n",
       "      <td>31</td>\n",
       "      <td>Mostly clear, with a low around 31. Wind chill...</td>\n",
       "    </tr>\n",
       "    <tr>\n",
       "      <th>4</th>\n",
       "      <td>Monday</td>\n",
       "      <td>50</td>\n",
       "      <td>Sunny, with a high near 50. Southwest wind 8 t...</td>\n",
       "    </tr>\n",
       "    <tr>\n",
       "      <th>5</th>\n",
       "      <td>Monday Night</td>\n",
       "      <td>35</td>\n",
       "      <td>Mostly clear. Low around 35, with temperatures...</td>\n",
       "    </tr>\n",
       "    <tr>\n",
       "      <th>6</th>\n",
       "      <td>Tuesday</td>\n",
       "      <td>56</td>\n",
       "      <td>Sunny, with a high near 56.</td>\n",
       "    </tr>\n",
       "    <tr>\n",
       "      <th>7</th>\n",
       "      <td>Tuesday Night</td>\n",
       "      <td>39</td>\n",
       "      <td>Partly cloudy, with a low around 39.</td>\n",
       "    </tr>\n",
       "    <tr>\n",
       "      <th>8</th>\n",
       "      <td>Wednesday</td>\n",
       "      <td>54</td>\n",
       "      <td>Mostly cloudy, with a high near 54.</td>\n",
       "    </tr>\n",
       "    <tr>\n",
       "      <th>9</th>\n",
       "      <td>Wednesday Night</td>\n",
       "      <td>46</td>\n",
       "      <td>A chance of rain showers after 8pm. Mostly clo...</td>\n",
       "    </tr>\n",
       "    <tr>\n",
       "      <th>10</th>\n",
       "      <td>Thursday</td>\n",
       "      <td>60</td>\n",
       "      <td>A chance of rain showers. Mostly cloudy, with ...</td>\n",
       "    </tr>\n",
       "    <tr>\n",
       "      <th>11</th>\n",
       "      <td>Thursday Night</td>\n",
       "      <td>46</td>\n",
       "      <td>A chance of rain showers. Mostly cloudy, with ...</td>\n",
       "    </tr>\n",
       "    <tr>\n",
       "      <th>12</th>\n",
       "      <td>Friday</td>\n",
       "      <td>56</td>\n",
       "      <td>A chance of rain showers. Cloudy, with a high ...</td>\n",
       "    </tr>\n",
       "    <tr>\n",
       "      <th>13</th>\n",
       "      <td>Friday Night</td>\n",
       "      <td>47</td>\n",
       "      <td>A chance of rain showers. Mostly cloudy, with ...</td>\n",
       "    </tr>\n",
       "  </tbody>\n",
       "</table>\n",
       "</div>"
      ],
      "text/plain": [
       "                Day  Temperature  \\\n",
       "0    This Afternoon           51   \n",
       "1           Tonight           30   \n",
       "2            Sunday           41   \n",
       "3      Sunday Night           31   \n",
       "4            Monday           50   \n",
       "5      Monday Night           35   \n",
       "6           Tuesday           56   \n",
       "7     Tuesday Night           39   \n",
       "8         Wednesday           54   \n",
       "9   Wednesday Night           46   \n",
       "10         Thursday           60   \n",
       "11   Thursday Night           46   \n",
       "12           Friday           56   \n",
       "13     Friday Night           47   \n",
       "\n",
       "                                          Description  \n",
       "0   Mostly sunny, with a high near 51. West wind a...  \n",
       "1   Partly cloudy. Low around 30, with temperature...  \n",
       "2   Mostly sunny, with a high near 41. Wind chill ...  \n",
       "3   Mostly clear, with a low around 31. Wind chill...  \n",
       "4   Sunny, with a high near 50. Southwest wind 8 t...  \n",
       "5   Mostly clear. Low around 35, with temperatures...  \n",
       "6                         Sunny, with a high near 56.  \n",
       "7                Partly cloudy, with a low around 39.  \n",
       "8                 Mostly cloudy, with a high near 54.  \n",
       "9   A chance of rain showers after 8pm. Mostly clo...  \n",
       "10  A chance of rain showers. Mostly cloudy, with ...  \n",
       "11  A chance of rain showers. Mostly cloudy, with ...  \n",
       "12  A chance of rain showers. Cloudy, with a high ...  \n",
       "13  A chance of rain showers. Mostly cloudy, with ...  "
      ]
     },
     "execution_count": 4,
     "metadata": {},
     "output_type": "execute_result"
    }
   ],
   "source": [
    "sheet = pd.read_csv(\"weather.csv\")\n",
    "sheet"
   ]
  },
  {
   "cell_type": "code",
   "execution_count": 5,
   "id": "cce7ae17",
   "metadata": {},
   "outputs": [],
   "source": [
    "from matplotlib import pyplot as plt\n",
    "import numpy as np"
   ]
  },
  {
   "cell_type": "code",
   "execution_count": 6,
   "id": "6336ab0e",
   "metadata": {},
   "outputs": [
    {
     "data": {
      "image/png": "[encoded data removed]",
      "text/plain": [
       "<Figure size 720x504 with 1 Axes>"
      ]
     },
     "metadata": {
      "needs_background": "light"
     },
     "output_type": "display_data"
    }
   ],
   "source": [
    "df = pd.DataFrame(sheet)\n",
    "\n",
    "day = df[\"Day\"]\n",
    "temp = df [\"Temperature\"]\n",
    "\n",
    "fig = plt.figure(figsize = (10, 7))\n",
    "plt.bar(day, temp)\n",
    "\n",
    "plt.xlabel(\"Day\")\n",
    "plt.ylabel(\"Temperature (F)\")\n",
    "plt.title (\"Weather of the Week\")\n",
    "plt.xticks(rotation=90) #https://stackoverflow.com/questions/10998621/rotate-axis-text-in-python-matplotlib\n",
    "\n",
    "plt.show()"
   ]
  },
  {
   "cell_type": "markdown",
   "id": "0571bb47",
   "metadata": {},
   "source": [
    "# Public Holiday"
   ]
  },
  {
   "cell_type": "code",
   "execution_count": 8,
   "id": "20bb0f24",
   "metadata": {},
   "outputs": [],
   "source": [
    "year = \"2020\"\n",
    "countryCode = \"US\"\n",
    "\n",
    "# How the API is working\n",
    "# Each of these calls goes to a different site with different types of info on the country whose code you input or about a year you input.\n",
    "# The API pulls the JSON and returns it.\n",
    "\n",
    "# Gets country info for the given country\n",
    "country_info = requests.get(f\"https://date.nager.at/api/v3/CountryInfo/{countryCode}\")\n",
    "# Gets all available countries\n",
    "avail_country = requests.get(f\"https://date.nager.at/api/v3/AvailableCountries\")\n",
    "\n",
    "# Gets long weekends for a given country\n",
    "long_wknd = requests.get(f\"https://date.nager.at/api/v3/LongWeekend/{year}/{countryCode}\")\n",
    "\n",
    "# Gets public holidays\n",
    "holiday = requests.get(f\"https://date.nager.at/api/v3/PublicHolidays/{year}/{countryCode}\")\n",
    "# Returns wheteher or not today is a public holiday\n",
    "today_hol = requests.get(f\"https://date.nager.at/api/v3/IsTodayPublicHoliday/{countryCode}\")\n",
    "# Returns the upcoming holidays for the next year for a given country\n",
    "next_hol_country = requests.get(f\"https://date.nager.at/api/v3/NextPublicHolidays/{countryCode}\")\n",
    "# Returns the upcoming holidays for the next 7 days\n",
    "next_hol = requests.get(f\"https://date.nager.at/api/v3/NextPublicHolidaysWorldwide\")\n"
   ]
  },
  {
   "cell_type": "code",
   "execution_count": 13,
   "id": "6b087ed2",
   "metadata": {},
   "outputs": [],
   "source": [
    "data_file = open(\"holiday.csv\", \"w\", newline=\"\", encoding=\"utf-8\")\n",
    "csv_writer = csv.writer(data_file)\n",
    "csv_writer.writerow([\"Country\", \"Holidays\"])\n",
    "\n",
    "def get_hol(countryCode):\n",
    "    year = \"2023\"\n",
    "    try:\n",
    "        holiday = requests.get(f\"https://date.nager.at/api/v3/PublicHolidays/{year}/{countryCode}\")\n",
    "        json_file = holiday.json()\n",
    "            \n",
    "        count_hol = len(json_file)\n",
    "        csv_writer.writerow([countryCode, count_hol])\n",
    "        \n",
    "        return print(f\"{countryCode}:{count_hol}\")\n",
    "    except: \n",
    "        print (f\"Holiday info not available for {countryCode}\")"
   ]
  },
  {
   "cell_type": "code",
   "execution_count": 10,
   "id": "a7622759",
   "metadata": {
    "scrolled": true
   },
   "outputs": [
    {
     "name": "stdout",
     "output_type": "stream",
     "text": [
      "US:13\n",
      "AD:14\n",
      "CN:7\n",
      "AR:16\n",
      "IE:11\n",
      "JP:16\n",
      "MT:14\n",
      "VN:4\n",
      "BR:14\n",
      "CN:7\n"
     ]
    }
   ],
   "source": [
    "get_hol(\"US\")\n",
    "get_hol(\"AD\")\n",
    "get_hol(\"CN\")\n",
    "get_hol(\"AR\")\n",
    "get_hol(\"IE\")\n",
    "get_hol(\"JP\")\n",
    "get_hol(\"MT\")\n",
    "get_hol(\"VN\")\n",
    "get_hol(\"BR\")\n",
    "get_hol(\"CN\")\n",
    "\n",
    "data_file.close()"
   ]
  },
  {
   "cell_type": "code",
   "execution_count": 11,
   "id": "76676415",
   "metadata": {},
   "outputs": [
    {
     "data": {
      "text/html": [
       "<div>\n",
       "<style scoped>\n",
       "    .dataframe tbody tr th:only-of-type {\n",
       "        vertical-align: middle;\n",
       "    }\n",
       "\n",
       "    .dataframe tbody tr th {\n",
       "        vertical-align: top;\n",
       "    }\n",
       "\n",
       "    .dataframe thead th {\n",
       "        text-align: right;\n",
       "    }\n",
       "</style>\n",
       "<table border=\"1\" class=\"dataframe\">\n",
       "  <thead>\n",
       "    <tr style=\"text-align: right;\">\n",
       "      <th></th>\n",
       "      <th>Country</th>\n",
       "      <th>Holidays</th>\n",
       "    </tr>\n",
       "  </thead>\n",
       "  <tbody>\n",
       "    <tr>\n",
       "      <th>0</th>\n",
       "      <td>US</td>\n",
       "      <td>13</td>\n",
       "    </tr>\n",
       "    <tr>\n",
       "      <th>1</th>\n",
       "      <td>AD</td>\n",
       "      <td>14</td>\n",
       "    </tr>\n",
       "    <tr>\n",
       "      <th>2</th>\n",
       "      <td>CN</td>\n",
       "      <td>7</td>\n",
       "    </tr>\n",
       "    <tr>\n",
       "      <th>3</th>\n",
       "      <td>AR</td>\n",
       "      <td>16</td>\n",
       "    </tr>\n",
       "    <tr>\n",
       "      <th>4</th>\n",
       "      <td>IE</td>\n",
       "      <td>11</td>\n",
       "    </tr>\n",
       "    <tr>\n",
       "      <th>5</th>\n",
       "      <td>JP</td>\n",
       "      <td>16</td>\n",
       "    </tr>\n",
       "    <tr>\n",
       "      <th>6</th>\n",
       "      <td>MT</td>\n",
       "      <td>14</td>\n",
       "    </tr>\n",
       "    <tr>\n",
       "      <th>7</th>\n",
       "      <td>VN</td>\n",
       "      <td>4</td>\n",
       "    </tr>\n",
       "    <tr>\n",
       "      <th>8</th>\n",
       "      <td>BR</td>\n",
       "      <td>14</td>\n",
       "    </tr>\n",
       "    <tr>\n",
       "      <th>9</th>\n",
       "      <td>CN</td>\n",
       "      <td>7</td>\n",
       "    </tr>\n",
       "  </tbody>\n",
       "</table>\n",
       "</div>"
      ],
      "text/plain": [
       "  Country  Holidays\n",
       "0      US        13\n",
       "1      AD        14\n",
       "2      CN         7\n",
       "3      AR        16\n",
       "4      IE        11\n",
       "5      JP        16\n",
       "6      MT        14\n",
       "7      VN         4\n",
       "8      BR        14\n",
       "9      CN         7"
      ]
     },
     "execution_count": 11,
     "metadata": {},
     "output_type": "execute_result"
    }
   ],
   "source": [
    "sheet = pd.read_csv(\"holiday.csv\")\n",
    "sheet"
   ]
  },
  {
   "cell_type": "code",
   "execution_count": 12,
   "id": "887d942d",
   "metadata": {},
   "outputs": [
    {
     "data": {
      "image/png": "[encoded data removed]",
      "text/plain": [
       "<Figure size 720x504 with 1 Axes>"
      ]
     },
     "metadata": {
      "needs_background": "light"
     },
     "output_type": "display_data"
    }
   ],
   "source": [
    "df = pd.DataFrame(sheet)\n",
    "df_sorted = df.sort_values('Holidays', ascending=False)\n",
    "\n",
    "coun = df_sorted[\"Country\"]\n",
    "hol = df_sorted [\"Holidays\"]\n",
    "\n",
    "fig = plt.figure(figsize = (10, 7))\n",
    "plt.bar(coun, hol)\n",
    "\n",
    "plt.xlabel(\"Country\")\n",
    "plt.ylabel(\"Number of Holidays\")\n",
    "plt.title (\"Holidays in Countries\")\n",
    "\n",
    "plt.show()"
   ]
  }
 ],
 "metadata": {
  "kernelspec": {
   "display_name": "Python 3 (ipykernel)",
   "language": "python",
   "name": "python3"
  },
  "language_info": {
   "codemirror_mode": {
    "name": "ipython",
    "version": 3
   },
   "file_extension": ".py",
   "mimetype": "text/x-python",
   "name": "python",
   "nbconvert_exporter": "python",
   "pygments_lexer": "ipython3",
   "version": "3.9.12"
  }
 },
 "nbformat": 4,
 "nbformat_minor": 5
}
