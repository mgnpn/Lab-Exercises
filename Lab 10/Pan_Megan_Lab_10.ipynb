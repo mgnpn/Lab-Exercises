{
 "cells": [
  {
   "cell_type": "code",
   "execution_count": 1,
   "id": "7bb0441a",
   "metadata": {},
   "outputs": [],
   "source": [
    "from tkinter import *\n",
    "import requests\n",
    "from random import randint"
   ]
  },
  {
   "cell_type": "markdown",
   "id": "fb162a50",
   "metadata": {},
   "source": [
    "# GUI #1"
   ]
  },
  {
   "cell_type": "code",
   "execution_count": 2,
   "id": "36d28e71",
   "metadata": {},
   "outputs": [],
   "source": [
    "root = Tk()\n",
    "root.geometry(\"900x600\")\n",
    "root.title(\"Quotes\")\n",
    "\n",
    "url = f\"https://api.quotable.io\"\n",
    "\n",
    "num = randint(1, 40)\n",
    "author_url = f\"{url}/authors?page={num}\"\n",
    "authors = requests.get(author_url).json()\n",
    "authors[\"results\"]\n",
    "authors_list = []\n",
    "for i in authors[\"results\"]:\n",
    "    authors_list.append(i[\"name\"])\n",
    "    \n",
    "\n",
    "def chosen_option():\n",
    "    author = value.get()\n",
    "    result_label = Label(root, text=f\"You've chosen {author}\")\n",
    "    \n",
    "    try: \n",
    "        quote_text.delete(0.0, END)\n",
    "        quote_url = f\"{url}/quotes/random?author={author}\"\n",
    "        quote = requests.get(quote_url).json()\n",
    "    \n",
    "        content = quote[0][\"content\"]\n",
    "    \n",
    "        quote_text.insert (INSERT, content)\n",
    "        \n",
    "    except:\n",
    "        result_label = Label(root, text=f\"{author} has no quotes.\")\n",
    "    \n",
    "    result_label.pack()\n",
    "    \n",
    "value = StringVar()\n",
    "value.set(\"Select an Author\")\n",
    "\n",
    "heading = Label(root, text = \"Here is an inspirational quote for you.\")\n",
    "heading.pack()\n",
    "\n",
    "quote_text = Text(root, bg=\"pink\", height = 10)\n",
    "quote_text.pack()\n",
    "\n",
    "dropdown = OptionMenu(root, value, *authors_list)\n",
    "choose_button = Button(root, text=\"Click to get quote\", command=chosen_option)\n",
    "\n",
    "dropdown.pack()\n",
    "choose_button.pack()\n",
    "\n",
    "root.mainloop()"
   ]
  },
  {
   "cell_type": "markdown",
   "id": "43f7818b",
   "metadata": {},
   "source": [
    "# GUI #2"
   ]
  },
  {
   "cell_type": "code",
   "execution_count": 6,
   "id": "002ce023",
   "metadata": {
    "scrolled": true
   },
   "outputs": [],
   "source": [
    "lat = \"42.0987\"\n",
    "lon = \"-75.9180\"\n",
    "weather = requests.get(f\"https://api.weather.gov/points/{lat},{lon}\")\n",
    "\n",
    "json_file = weather.json()\n",
    "json_file\n",
    "\n",
    "city = json_file[\"properties\"][\"relativeLocation\"][\"properties\"][\"city\"]\n",
    "state = json_file[\"properties\"][\"relativeLocation\"][\"properties\"][\"state\"]\n",
    "\n",
    "forecast = json_file[\"properties\"][\"forecast\"]\n",
    "forecast_json = requests.get(forecast).json()\n",
    "\n",
    "per = forecast_json[\"properties\"][\"periods\"]\n",
    "# per"
   ]
  },
  {
   "cell_type": "code",
   "execution_count": 7,
   "id": "202d3d6e",
   "metadata": {},
   "outputs": [],
   "source": [
    "rn = per[0]\n",
    "tempunit = rn[\"temperatureUnit\"]\n",
    "rn_temp = rn[\"temperature\"]\n",
    "rn_short = rn[\"shortForecast\"]\n",
    "rn_high = rn[\"shortForecast\"]\n",
    "rn_day_night = rn[\"isDaytime\"]\n",
    "rn_name = rn[\"name\"]\n",
    "rn_fore = rn[\"detailedForecast\"]\n",
    "\n",
    "\n",
    "day_list = []\n",
    "high_list = []\n",
    "low_list = []\n",
    "precip_list = []\n",
    "forecast_list=[]\n",
    "\n",
    "for i in per:\n",
    "    if i[\"isDaytime\"] == True:\n",
    "        day_list.append(i[\"name\"])\n",
    "        high_list.append(i[\"temperature\"])\n",
    "        if i[\"probabilityOfPrecipitation\"][\"value\"] != None:\n",
    "            precip_list.append (i[\"probabilityOfPrecipitation\"][\"value\"])\n",
    "        else: \n",
    "            precip_list.append (0)\n",
    "        forecast_list.append(i['detailedForecast'])\n",
    "        \n",
    "        \n",
    "    else:\n",
    "        low_list.append(i[\"temperature\"])\n",
    "\n",
    "# print (day_list)\n",
    "# print (high_list)\n",
    "# print (low_list)\n",
    "# print (precip_list)"
   ]
  },
  {
   "cell_type": "code",
   "execution_count": 8,
   "id": "de99b88a",
   "metadata": {},
   "outputs": [],
   "source": [
    "from tkinter import messagebox \n",
    "\n",
    "root = Tk()\n",
    "root.geometry(\"900x600\")\n",
    "root.title(\"Weather\")\n",
    "\n",
    "topFrame = Frame(root, pady = 30)\n",
    "topFrame.pack()\n",
    "\n",
    "bottomFrame = Frame(root)\n",
    "bottomFrame.pack()\n",
    "\n",
    "# MESSAGE BOX WIDGET\n",
    "def today_forecast():\n",
    "    fore_mess = messagebox.showinfo(\"Details\", rn_fore)\n",
    "        \n",
    "location = Label(topFrame, text = f\"{city}, {state}\", font = (\"Arial\", 20)).grid(row = 0)\n",
    "curr_time = Label(topFrame, text = f\"{rn_name}\", font = (\"Arial\", 10)).grid(row = 1)\n",
    "curr_temp = Label(topFrame, text = f\"{rn_temp}°{tempunit}\", font = (\"Arial\", 50)).grid(row = 2)\n",
    "curr_fore = Label(topFrame, text = f\"{rn_short}\", font = (\"Arial\", 20)).grid(row = 3)\n",
    "curr_detfore = Button(topFrame, text = \"More\", command = today_forecast).grid(row = 4)\n",
    "\n",
    "\n",
    "for number in range(0,7):\n",
    "    def get_forecast():\n",
    "        fore_mess = messagebox.showinfo(\"Details\", forecast_list[number])\n",
    "    day = Label(bottomFrame, text = f\"{day_list[number]}\", font = (\"Arial\", 15), padx = 10).grid(row = number, column=0)\n",
    "    temp = Label(bottomFrame, text = f\"{high_list[number]}°{tempunit}/{low_list[number]}°{tempunit}\", font = (\"Arial\", 15), padx = 10).grid(row = number, column=1)\n",
    "    precip = Label(bottomFrame, text = f\"{precip_list[number]} %\", font = (\"Arial\", 15), padx = 20).grid(row = number, column=2)\n",
    "    \n",
    "root.mainloop()"
   ]
  },
  {
   "cell_type": "code",
   "execution_count": null,
   "id": "8a3af099",
   "metadata": {},
   "outputs": [],
   "source": []
  }
 ],
 "metadata": {
  "kernelspec": {
   "display_name": "Python 3 (ipykernel)",
   "language": "python",
   "name": "python3"
  },
  "language_info": {
   "codemirror_mode": {
    "name": "ipython",
    "version": 3
   },
   "file_extension": ".py",
   "mimetype": "text/x-python",
   "name": "python",
   "nbconvert_exporter": "python",
   "pygments_lexer": "ipython3",
   "version": "3.9.12"
  }
 },
 "nbformat": 4,
 "nbformat_minor": 5
}
