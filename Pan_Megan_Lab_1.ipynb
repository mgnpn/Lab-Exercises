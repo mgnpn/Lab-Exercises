{
 "cells": [
  {
   "cell_type": "markdown",
   "id": "1054644f",
   "metadata": {},
   "source": [
    "# Post-Lab"
   ]
  },
  {
   "cell_type": "code",
   "execution_count": 8,
   "id": "1dc364f3",
   "metadata": {},
   "outputs": [
    {
     "name": "stdout",
     "output_type": "stream",
     "text": [
      "chestnut\n",
      "gargoyle\n"
     ]
    }
   ],
   "source": [
    "#1 \n",
    "list_1 = [\"apple\", \"chestnut\", \"gargoyle\", \"pandas\", \"sheep\", \"raptor\"]\n",
    "\n",
    "def longest_word(list):\n",
    "    count_list = []\n",
    "\n",
    "    for word in list:\n",
    "        count_list.append(len(word))\n",
    "    \n",
    "    max_value = max(count_list)    \n",
    "    \n",
    "    for word in list:\n",
    "        if len(word) == max_value:\n",
    "            print(word)\n",
    "\n",
    "longest_word(list_1)"
   ]
  },
  {
   "cell_type": "code",
   "execution_count": 102,
   "id": "3d71501d",
   "metadata": {},
   "outputs": [
    {
     "name": "stdout",
     "output_type": "stream",
     "text": [
      "['MILITARIZING', 'SUMPTUOUSLY', 'EARWIGGED', 'PILLWORMS', 'ETHERCAP', 'MILLDAM', 'CHINWAG']\n",
      "MILITARIZING\n"
     ]
    }
   ],
   "source": [
    "#2\n",
    "import random\n",
    "sowpods = \"sowpods.txt\"\n",
    "\n",
    "def gen_list():\n",
    "    word_list = []\n",
    "\n",
    "    f = open(sowpods, \"r\", encoding=\"utf8\")\n",
    "    words = f.readlines()\n",
    "    f.close()\n",
    "    for i in range(7):\n",
    "        word = random.choice(words).strip()\n",
    "        word_list.append(word)\n",
    "        \n",
    "    return (word_list)\n",
    "\n",
    "list_2 = gen_list()\n",
    "print(list_2)\n",
    "\n",
    "longest_word(list_2)"
   ]
  },
  {
   "cell_type": "code",
   "execution_count": 109,
   "id": "97a07d5c",
   "metadata": {},
   "outputs": [
    {
     "name": "stdout",
     "output_type": "stream",
     "text": [
      "{'apple': 'red', 'orange': 'red', 'banana': 'red'}\n",
      "{'apple': 'red', 'orange': 'red'}\n",
      "{'apple': 'red'}\n",
      "{'apple': 'red', 'blueberry': 'blue'}\n"
     ]
    }
   ],
   "source": [
    "#3\n",
    "fruits = [\"apple\", \"orange\", \"banana\"]\n",
    "color = \"red\"\n",
    "\n",
    "fr_color = dict.fromkeys(fruits, color)\n",
    "print (fr_color)\n",
    "\n",
    "fr_color.get(\"orange\")\n",
    "\n",
    "fr_color.popitem()\n",
    "print(fr_color)\n",
    "\n",
    "fr_color.pop(\"orange\")\n",
    "print(fr_color)\n",
    "\n",
    "fr_color.update({\"blueberry\" : \"blue\"})\n",
    "print(fr_color)"
   ]
  },
  {
   "cell_type": "code",
   "execution_count": 7,
   "id": "116f2926",
   "metadata": {
    "scrolled": true
   },
   "outputs": [
    {
     "name": "stdout",
     "output_type": "stream",
     "text": [
      "What is Hello in Spanish? hola\n",
      "You got it!\n",
      "What is amour in English? hate\n",
      "Sorry. It was 'love'.\n",
      "What language is 'amour' from? French\n",
      "You got it!\n"
     ]
    }
   ],
   "source": [
    "#4\n",
    "# I'm creating a class of flashcards. Each instance will be a new flashcard with a different of words.\n",
    "# The parameters of the class are the language it is teaching, the word in English, and then the word in the specified language.\n",
    "class FlashCards:\n",
    "    def __init__(self, language, eng_word, lang_word):\n",
    "        self.language = language\n",
    "        self.eng_word = eng_word\n",
    "        self.lang_word = lang_word\n",
    "        \n",
    "    # This method will ask the user to translate the word from English to the other language and check if they are correct\n",
    "    def to_lang(self):\n",
    "        answer = input(f\"What is {self.eng_word} in {self.language}? \").lower()\n",
    "        if answer == self.lang_word.lower():\n",
    "            print(\"You got it!\")\n",
    "        else: \n",
    "            print(f\"Sorry. It was '{self.lang_word}'.\")\n",
    "    \n",
    "    # This method will ask the user to translate the word from the other language to English and check if they are correct\n",
    "    def to_eng(self):\n",
    "        answer = input(f\"What is {self.lang_word} in English? \").lower()\n",
    "        if answer == self.eng_word.lower():\n",
    "            print(\"You got it!\")\n",
    "        else: \n",
    "            print(f\"Sorry. It was '{self.eng_word}'.\")\n",
    "            \n",
    "    # This method tests to see if the user knows what language the word is from\n",
    "    def test_lang(self):\n",
    "        answer = input(f\"What language is '{self.lang_word}' from? \").lower()\n",
    "        if answer == self.language.lower():\n",
    "            print (\"You got it!\")\n",
    "        else: \n",
    "            print (f\"Sorry, it was {self.language}. It means {self.eng_word} in English.\")\n",
    "            \n",
    "C1 = FlashCards(\"Spanish\", \"Hello\", \"Hola\")\n",
    "C2 = FlashCards(\"French\", \"love\", \"amour\")\n",
    "\n",
    "C1.to_lang()\n",
    "C2.to_eng()\n",
    "C2.test_lang()"
   ]
  },
  {
   "cell_type": "code",
   "execution_count": 50,
   "id": "70099fac",
   "metadata": {},
   "outputs": [],
   "source": [
    "#5\n",
    "\n",
    "# Word generator function\n",
    "import random\n",
    "sowpods = \"sowpods.txt\"\n",
    "\n",
    "def word_generator():\n",
    "    filename = sowpods\n",
    "    f = open(filename, \"r\", encoding=\"utf8\")\n",
    "    words = f.readlines()\n",
    "    f.close()\n",
    "    \n",
    "    return random.choice(words).strip()\n",
    "\n",
    "# Hangman Game\n",
    "def Hangman():\n",
    "    word = word_generator().lower() #saves the random word into the variable\n",
    "    wlist = []\n",
    "    for letter in word:\n",
    "        wlist.append(letter) # Creates a list with the letters of the word\n",
    "\n",
    "    correct = [] # Empty list for the user's correct guesses. Where the word is built\n",
    "    wrong = [] # Empty list for the user's incorrect guesses\n",
    "    tries = 6 # Number of tries the user gets\n",
    "\n",
    "    num_letters = len(wlist)\n",
    "    for num in range(num_letters):\n",
    "        correct.append(\"_ \") # Fills the correct list with dashes to represent each letter in the word\n",
    "    print(\"\".join(correct))\n",
    "    print(\"\\n\")\n",
    "    \n",
    "    while tries > 0:\n",
    "        guess = input(\"Guess a letter: \").lower()\n",
    "        if guess.isalpha() and (guess not in (wrong or correct)):\n",
    "            if guess in wlist:\n",
    "                # If the guess is correct, it will tell you it is and then fill in the correct letter in the correct index of the list\n",
    "                print(\"Your guess is correct\")\n",
    "                for letter in wlist:\n",
    "                    if letter == guess:\n",
    "                        while guess in wlist:\n",
    "                            ind = wlist.index(letter)\n",
    "                            wlist[ind] = \"_\"\n",
    "                            correct[ind] = guess       \n",
    "            else:\n",
    "                # If the guess is incorrect, it will tell you, add the guess to the wrong list and subtract 1 from the # of tries\n",
    "                print (\"You guess is incorrect\")\n",
    "                wrong.append(guess)\n",
    "                tries -= 1\n",
    "        elif guess in (wrong or correct): \n",
    "            # If the letter was already guessed, it will tell you\n",
    "            print (\"You already guessed this letter\")\n",
    "        else:\n",
    "            # If the input is not a letter, it will tell you it is invalid\n",
    "            print (\"Invalid input\")\n",
    "    \n",
    "        print(\"\".join(correct)) # Prints the correct in a string then in a list\n",
    "        print(f\"Tries left: {tries}\")\n",
    "        print(f\"Wrong guesses: {wrong}\")\n",
    "        print(\"\\n\")\n",
    "    \n",
    "    # The while loop depends on the number of tries.\n",
    "    # If the user guesses all the letter before the tries are up, it will break the loop. If not and there are no more tries, it will end and tell you the word.\n",
    "        if \"_ \" not in correct:\n",
    "            print (\"Congrats! You got it!\")\n",
    "            break    \n",
    "        elif tries == 0:\n",
    "            print(f\"Sorry! You ran out of tries!\\nThe word was '{word}'.\")"
   ]
  },
  {
   "cell_type": "code",
   "execution_count": 51,
   "id": "99fdad64",
   "metadata": {},
   "outputs": [
    {
     "name": "stdout",
     "output_type": "stream",
     "text": [
      "_ _ _ _ _ _ _ _ _ \n",
      "\n",
      "\n",
      "Guess a letter: e\n",
      "Your guess is correct\n",
      "_ _ _ _ _ _ _ e_ \n",
      "Tries left: 6\n",
      "Wrong guesses: []\n",
      "\n",
      "\n",
      "Guess a letter: n\n",
      "Your guess is correct\n",
      "_ _ _ _ n_ _ e_ \n",
      "Tries left: 6\n",
      "Wrong guesses: []\n",
      "\n",
      "\n",
      "Guess a letter: t\n",
      "Your guess is correct\n",
      "_ _ _ _ nt_ e_ \n",
      "Tries left: 6\n",
      "Wrong guesses: []\n",
      "\n",
      "\n",
      "Guess a letter: i\n",
      "Your guess is correct\n",
      "i_ _ _ nt_ e_ \n",
      "Tries left: 6\n",
      "Wrong guesses: []\n",
      "\n",
      "\n",
      "Guess a letter: s\n",
      "Your guess is correct\n",
      "i_ _ _ nt_ es\n",
      "Tries left: 6\n",
      "Wrong guesses: []\n",
      "\n",
      "\n",
      "Guess a letter: o\n",
      "You guess is incorrect\n",
      "i_ _ _ nt_ es\n",
      "Tries left: 5\n",
      "Wrong guesses: ['o']\n",
      "\n",
      "\n",
      "Guess a letter: o\n",
      "You already guessed this letter\n",
      "i_ _ _ nt_ es\n",
      "Tries left: 5\n",
      "Wrong guesses: ['o']\n",
      "\n",
      "\n",
      "Guess a letter: l\n",
      "Your guess is correct\n",
      "i_ _ _ ntles\n",
      "Tries left: 5\n",
      "Wrong guesses: ['o']\n",
      "\n",
      "\n",
      "Guess a letter: a\n",
      "Your guess is correct\n",
      "i_ _ antles\n",
      "Tries left: 5\n",
      "Wrong guesses: ['o']\n",
      "\n",
      "\n",
      "Guess a letter: m\n",
      "Your guess is correct\n",
      "immantles\n",
      "Tries left: 5\n",
      "Wrong guesses: ['o']\n",
      "\n",
      "\n",
      "Congrats! You got it!\n"
     ]
    }
   ],
   "source": [
    "Hangman()"
   ]
  },
  {
   "cell_type": "markdown",
   "id": "755e8960",
   "metadata": {},
   "source": [
    "# In-Lab"
   ]
  },
  {
   "cell_type": "code",
   "execution_count": 30,
   "id": "ca3d9e27",
   "metadata": {},
   "outputs": [],
   "source": [
    "class BankAccount:\n",
    "    def __init__(self, name, balance):\n",
    "        self.name = name\n",
    "        self.balance = balance\n",
    "    \n",
    "    def withdraw (self, amount):\n",
    "        if amount <= self.balance:\n",
    "            self.balance -= amount\n",
    "            print(f\"{self.name}'s New Balance: {self.balance}\")\n",
    "        else: \n",
    "            print (f\"{self.name} has insufficient funds\")\n",
    "        \n",
    "            \n",
    "    def deposit (self, amount):\n",
    "        self.balance += amount\n",
    "        print(f\"{self.name}'s New Balance: {self.balance}\")\n",
    "        \n",
    "    def access(self):\n",
    "        print(f\"{self.name}'s Balance: {self.balance}\")"
   ]
  },
  {
   "cell_type": "code",
   "execution_count": 31,
   "id": "5e0ccd76",
   "metadata": {},
   "outputs": [
    {
     "name": "stdout",
     "output_type": "stream",
     "text": [
      "Megan's Balance: 10000\n",
      "Megan's New Balance: 9980\n",
      "Megan's New Balance: 10980\n",
      "Bob's Balance: 100\n",
      "Bob has insufficient funds\n"
     ]
    }
   ],
   "source": [
    "U001 = BankAccount(\"Megan\", 10000)\n",
    "U002 = BankAccount(\"Bob\", 100)\n",
    "\n",
    "\n",
    "U001.access()\n",
    "U001.withdraw(20)\n",
    "U001.deposit(1000)\n",
    "U002.access()\n",
    "U002.withdraw(200)\n"
   ]
  }
 ],
 "metadata": {
  "kernelspec": {
   "display_name": "Python 3 (ipykernel)",
   "language": "python",
   "name": "python3"
  },
  "language_info": {
   "codemirror_mode": {
    "name": "ipython",
    "version": 3
   },
   "file_extension": ".py",
   "mimetype": "text/x-python",
   "name": "python",
   "nbconvert_exporter": "python",
   "pygments_lexer": "ipython3",
   "version": "3.9.12"
  }
 },
 "nbformat": 4,
 "nbformat_minor": 5
}
